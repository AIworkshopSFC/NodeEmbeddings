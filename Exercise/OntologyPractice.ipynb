{
 "cells": [
  {
   "cell_type": "code",
   "execution_count": 1,
   "metadata": {},
   "outputs": [],
   "source": [
    "import ontospy"
   ]
  },
  {
   "cell_type": "code",
   "execution_count": 2,
   "metadata": {},
   "outputs": [
    {
     "name": "stdout",
     "output_type": "stream",
     "text": [
      "Reading: <http://xmlns.com/foaf/0.1/>\n",
      ".. trying rdf serialization: <xml>\n",
      "..... success!\n",
      "----------\n",
      "Loaded 631 triples.\n",
      "----------\n",
      "RDF sources loaded successfully: 1 of 1.\n",
      "..... 'http://xmlns.com/foaf/0.1/'\n",
      "----------\n"
     ]
    },
    {
     "name": "stderr",
     "output_type": "stream",
     "text": [
      "Scanning entities...\n",
      "----------\n",
      "Ontologies.........: 1\n",
      "Classes............: 15\n",
      "Properties.........: 67\n",
      "..annotation.......: 7\n",
      "..datatype.........: 26\n",
      "..object...........: 34\n",
      "Concepts (SKOS)....: 0\n",
      "Shapes (SHACL).....: 0\n",
      "----------\n"
     ]
    }
   ],
   "source": [
    "model = ontospy.Ontospy(\"http://xmlns.com/foaf/0.1/\", verbose=True)"
   ]
  },
  {
   "cell_type": "code",
   "execution_count": 3,
   "metadata": {},
   "outputs": [
    {
     "data": {
      "text/plain": [
       "[<Class *http://xmlns.com/foaf/0.1/Agent*>,\n",
       " <Class *http://xmlns.com/foaf/0.1/Document*>,\n",
       " <Class *http://xmlns.com/foaf/0.1/Group*>,\n",
       " <Class *http://xmlns.com/foaf/0.1/Image*>,\n",
       " <Class *http://xmlns.com/foaf/0.1/LabelProperty*>,\n",
       " <Class *http://xmlns.com/foaf/0.1/OnlineAccount*>,\n",
       " <Class *http://xmlns.com/foaf/0.1/OnlineChatAccount*>,\n",
       " <Class *http://xmlns.com/foaf/0.1/OnlineEcommerceAccount*>,\n",
       " <Class *http://xmlns.com/foaf/0.1/OnlineGamingAccount*>,\n",
       " <Class *http://xmlns.com/foaf/0.1/Organization*>,\n",
       " <Class *http://xmlns.com/foaf/0.1/Person*>,\n",
       " <Class *http://xmlns.com/foaf/0.1/PersonalProfileDocument*>,\n",
       " <Class *http://xmlns.com/foaf/0.1/Project*>,\n",
       " <Class *http://www.w3.org/2003/01/geo/wgs84_pos#SpatialThing*>,\n",
       " <Class *http://www.w3.org/2004/02/skos/core#Concept*>]"
      ]
     },
     "execution_count": 3,
     "metadata": {},
     "output_type": "execute_result"
    }
   ],
   "source": [
    "model.all_classes"
   ]
  },
  {
   "cell_type": "code",
   "execution_count": 4,
   "metadata": {},
   "outputs": [
    {
     "data": {
      "text/plain": [
       "[<Property *http://xmlns.com/foaf/0.1/account*>,\n",
       " <Property *http://xmlns.com/foaf/0.1/accountServiceHomepage*>,\n",
       " <Property *http://xmlns.com/foaf/0.1/based_near*>,\n",
       " <Property *http://xmlns.com/foaf/0.1/currentProject*>,\n",
       " <Property *http://xmlns.com/foaf/0.1/depiction*>,\n",
       " <Property *http://xmlns.com/foaf/0.1/depicts*>,\n",
       " <Property *http://xmlns.com/foaf/0.1/focus*>,\n",
       " <Property *http://xmlns.com/foaf/0.1/fundedBy*>,\n",
       " <Property *http://xmlns.com/foaf/0.1/holdsAccount*>,\n",
       " <Property *http://xmlns.com/foaf/0.1/homepage*>,\n",
       " <Property *http://xmlns.com/foaf/0.1/img*>,\n",
       " <Property *http://xmlns.com/foaf/0.1/interest*>,\n",
       " <Property *http://xmlns.com/foaf/0.1/isPrimaryTopicOf*>,\n",
       " <Property *http://xmlns.com/foaf/0.1/knows*>,\n",
       " <Property *http://xmlns.com/foaf/0.1/logo*>,\n",
       " <Property *http://xmlns.com/foaf/0.1/made*>,\n",
       " <Property *http://xmlns.com/foaf/0.1/maker*>,\n",
       " <Property *http://xmlns.com/foaf/0.1/mbox*>,\n",
       " <Property *http://xmlns.com/foaf/0.1/member*>,\n",
       " <Property *http://xmlns.com/foaf/0.1/openid*>,\n",
       " <Property *http://xmlns.com/foaf/0.1/page*>,\n",
       " <Property *http://xmlns.com/foaf/0.1/pastProject*>,\n",
       " <Property *http://xmlns.com/foaf/0.1/phone*>,\n",
       " <Property *http://xmlns.com/foaf/0.1/primaryTopic*>,\n",
       " <Property *http://xmlns.com/foaf/0.1/publications*>,\n",
       " <Property *http://xmlns.com/foaf/0.1/schoolHomepage*>,\n",
       " <Property *http://xmlns.com/foaf/0.1/theme*>,\n",
       " <Property *http://xmlns.com/foaf/0.1/thumbnail*>,\n",
       " <Property *http://xmlns.com/foaf/0.1/tipjar*>,\n",
       " <Property *http://xmlns.com/foaf/0.1/topic*>,\n",
       " <Property *http://xmlns.com/foaf/0.1/topic_interest*>,\n",
       " <Property *http://xmlns.com/foaf/0.1/weblog*>,\n",
       " <Property *http://xmlns.com/foaf/0.1/workInfoHomepage*>,\n",
       " <Property *http://xmlns.com/foaf/0.1/workplaceHomepage*>]"
      ]
     },
     "execution_count": 4,
     "metadata": {},
     "output_type": "execute_result"
    }
   ],
   "source": [
    "model.all_properties_object"
   ]
  },
  {
   "cell_type": "code",
   "execution_count": 5,
   "metadata": {},
   "outputs": [
    {
     "name": "stdout",
     "output_type": "stream",
     "text": [
      "foaf:Agent\n",
      "----foaf:Group\n",
      "----foaf:Organization\n",
      "----foaf:Person\n",
      "foaf:Document\n",
      "----foaf:Image\n",
      "----foaf:PersonalProfileDocument\n",
      "foaf:LabelProperty\n",
      "foaf:OnlineAccount\n",
      "----foaf:OnlineChatAccount\n",
      "----foaf:OnlineEcommerceAccount\n",
      "----foaf:OnlineGamingAccount\n",
      "foaf:Project\n",
      "http://www.w3.org/2003/01/geo/wgs84_pos#SpatialThing\n",
      "----foaf:Person\n",
      "skos:Concept\n"
     ]
    }
   ],
   "source": [
    "model.printClassTree()"
   ]
  },
  {
   "cell_type": "code",
   "execution_count": 6,
   "metadata": {},
   "outputs": [
    {
     "data": {
      "text/plain": [
       "[<Class *http://xmlns.com/foaf/0.1/Agent*>,\n",
       " <Class *http://xmlns.com/foaf/0.1/Document*>,\n",
       " <Class *http://xmlns.com/foaf/0.1/LabelProperty*>,\n",
       " <Class *http://xmlns.com/foaf/0.1/OnlineAccount*>,\n",
       " <Class *http://xmlns.com/foaf/0.1/Project*>,\n",
       " <Class *http://www.w3.org/2003/01/geo/wgs84_pos#SpatialThing*>,\n",
       " <Class *http://www.w3.org/2004/02/skos/core#Concept*>]"
      ]
     },
     "execution_count": 6,
     "metadata": {},
     "output_type": "execute_result"
    }
   ],
   "source": [
    "model.toplayer_classes"
   ]
  },
  {
   "cell_type": "code",
   "execution_count": 17,
   "metadata": {},
   "outputs": [
    {
     "data": {
      "text/plain": [
       "[<Class *http://xmlns.com/foaf/0.1/Document*>,\n",
       " <Class *http://xmlns.com/foaf/0.1/PersonalProfileDocument*>]"
      ]
     },
     "execution_count": 17,
     "metadata": {},
     "output_type": "execute_result"
    }
   ],
   "source": [
    "model.get_class('document')"
   ]
  },
  {
   "cell_type": "code",
   "execution_count": 8,
   "metadata": {},
   "outputs": [],
   "source": [
    "c1 = _[1]"
   ]
  },
  {
   "cell_type": "code",
   "execution_count": 9,
   "metadata": {},
   "outputs": [
    {
     "name": "stdout",
     "output_type": "stream",
     "text": [
      "@prefix dc: <http://purl.org/dc/elements/1.1/> .\n",
      "@prefix foaf: <http://xmlns.com/foaf/0.1/> .\n",
      "@prefix owl: <http://www.w3.org/2002/07/owl#> .\n",
      "@prefix rdf: <http://www.w3.org/1999/02/22-rdf-syntax-ns#> .\n",
      "@prefix rdfs: <http://www.w3.org/2000/01/rdf-schema#> .\n",
      "@prefix sh: <http://www.w3.org/ns/shacl#> .\n",
      "@prefix skos: <http://www.w3.org/2004/02/skos/core#> .\n",
      "@prefix vann: <http://purl.org/vocab/vann/> .\n",
      "@prefix void: <http://rdfs.org/ns/void#> .\n",
      "@prefix vs: <http://www.w3.org/2003/06/sw-vocab-status/ns#> .\n",
      "@prefix wot: <http://xmlns.com/wot/0.1/> .\n",
      "@prefix xml: <http://www.w3.org/XML/1998/namespace> .\n",
      "@prefix xsd: <http://www.w3.org/2001/XMLSchema#> .\n",
      "\n",
      "foaf:PersonalProfileDocument a rdfs:Class,\n",
      "        owl:Class ;\n",
      "    rdfs:label \"PersonalProfileDocument\" ;\n",
      "    rdfs:comment \"A personal profile RDF document.\" ;\n",
      "    rdfs:subClassOf foaf:Document ;\n",
      "    vs:term_status \"testing\" .\n",
      "\n",
      "\n"
     ]
    }
   ],
   "source": [
    "print(c1.rdf_source())"
   ]
  },
  {
   "cell_type": "code",
   "execution_count": 10,
   "metadata": {},
   "outputs": [
    {
     "data": {
      "text/plain": [
       "[<Class *http://xmlns.com/foaf/0.1/Document*>]"
      ]
     },
     "execution_count": 10,
     "metadata": {},
     "output_type": "execute_result"
    }
   ],
   "source": [
    "c1.parents()"
   ]
  },
  {
   "cell_type": "code",
   "execution_count": 11,
   "metadata": {},
   "outputs": [
    {
     "data": {
      "text/plain": [
       "[]"
      ]
     },
     "execution_count": 11,
     "metadata": {},
     "output_type": "execute_result"
    }
   ],
   "source": [
    "c1.children()"
   ]
  },
  {
   "cell_type": "code",
   "execution_count": null,
   "metadata": {},
   "outputs": [],
   "source": []
  }
 ],
 "metadata": {
  "kernelspec": {
   "display_name": "py36kernel",
   "language": "python",
   "name": "py36kernel"
  },
  "language_info": {
   "codemirror_mode": {
    "name": "ipython",
    "version": 3
   },
   "file_extension": ".py",
   "mimetype": "text/x-python",
   "name": "python",
   "nbconvert_exporter": "python",
   "pygments_lexer": "ipython3",
   "version": "3.6.8"
  }
 },
 "nbformat": 4,
 "nbformat_minor": 2
}
