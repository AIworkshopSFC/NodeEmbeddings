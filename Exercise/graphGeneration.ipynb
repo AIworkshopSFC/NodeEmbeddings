{
 "cells": [
  {
   "cell_type": "markdown",
   "metadata": {},
   "source": [
    "1. Reference implementation of node2vec. \n",
    "Author: Aditya Grover\n",
    "For more details, refer to the paper:\n",
    "node2vec: Scalable Feature Learning for Networks\n",
    "Aditya Grover and Jure Leskovec \n",
    "Knowledge Discovery and Data Mining (KDD), 2016\n",
    "\n",
    "2. Reference implementation of link prediction task using fb data: Lucas Hu"
   ]
  },
  {
   "cell_type": "code",
   "execution_count": 1,
   "metadata": {},
   "outputs": [],
   "source": [
    "import networkx as nx\n",
    "import pandas as pd\n",
    "import numpy as np\n",
    "import pickle"
   ]
  },
  {
   "cell_type": "code",
   "execution_count": 2,
   "metadata": {},
   "outputs": [],
   "source": [
    "edges_dir = 'testData/0.edges'\n",
    "feats_dir = 'testData/0.allfeat'"
   ]
  },
  {
   "cell_type": "code",
   "execution_count": 3,
   "metadata": {},
   "outputs": [],
   "source": [
    "# Read edge list\n",
    "g = nx.read_edgelist(edges_dir,nodetype=int)\n",
    "\n",
    "# Add root (directly connected to all other nodes)\n",
    "g.add_node(int(0))\n",
    "\n",
    "for node in g.nodes():\n",
    "    if node != int(0):\n",
    "        g.add_edge(int(0), node)"
   ]
  },
  {
   "cell_type": "code",
   "execution_count": 4,
   "metadata": {},
   "outputs": [],
   "source": [
    "# Read feature list\n",
    "df = pd.read_csv(feats_dir, sep=' ', header=None, index_col=0)\n",
    "\n",
    "# Add features from dataframe to networkx nodes\n",
    "for node_index, features_series in df.iterrows():\n",
    "    if not g.has_node(node_index):\n",
    "        g.add_node(node_index)\n",
    "        g.add_edge(node_index, int(0))\n",
    "            \n",
    "    g.node[node_index]['features'] = features_series.values\n",
    "\n",
    "    # Make sure the graph is connected\n",
    "    nx.is_connected(g)\n",
    "        \n",
    "    # Get adjacency matrix in sparse format (sorted by g.nodes())\n",
    "adj = nx.adjacency_matrix(g)\n"
   ]
  },
  {
   "cell_type": "code",
   "execution_count": 5,
   "metadata": {},
   "outputs": [],
   "source": [
    "# Get features matrix (also sorted by g.nodes())\n",
    "features = np.zeros((df.shape[0], df.shape[1]))  # num nodes, num features\n",
    "\n",
    "for i, node in enumerate(g.nodes()):\n",
    "\n",
    "    features[i, :] = g.node[node]['features']\n",
    "    \n",
    "# Save adj, features in pickle file\n",
    "network_tuple = (adj, features)\n",
    "    \n",
    "with open(\"0-adj-feat.pkl\", \"wb\") as f:\n",
    "       pickle.dump(network_tuple, f)"
   ]
  },
  {
   "cell_type": "code",
   "execution_count": null,
   "metadata": {},
   "outputs": [],
   "source": []
  },
  {
   "cell_type": "code",
   "execution_count": null,
   "metadata": {},
   "outputs": [],
   "source": []
  }
 ],
 "metadata": {
  "kernelspec": {
   "display_name": "py36kernel",
   "language": "python",
   "name": "py36kernel"
  },
  "language_info": {
   "codemirror_mode": {
    "name": "ipython",
    "version": 3
   },
   "file_extension": ".py",
   "mimetype": "text/x-python",
   "name": "python",
   "nbconvert_exporter": "python",
   "pygments_lexer": "ipython3",
   "version": "3.6.8"
  }
 },
 "nbformat": 4,
 "nbformat_minor": 2
}
